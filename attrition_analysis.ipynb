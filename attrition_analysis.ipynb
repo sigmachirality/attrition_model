{
  "nbformat": 4,
  "nbformat_minor": 0,
  "metadata": {
    "colab": {
      "name": "WAF Data Challenge",
      "provenance": [],
      "collapsed_sections": [],
      "toc_visible": true
    },
    "kernelspec": {
      "name": "python3",
      "display_name": "Python 3"
    }
  },
  "cells": [
    {
      "cell_type": "markdown",
      "metadata": {
        "id": "ysxcTOIGiZOb"
      },
      "source": [
        "## **Setup and Data Loading**"
      ]
    },
    {
    },
